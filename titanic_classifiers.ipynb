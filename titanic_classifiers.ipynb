{
 "cells": [
  {
   "cell_type": "code",
   "execution_count": 720,
   "metadata": {},
   "outputs": [],
   "source": [
    "from sklearn.linear_model import LogisticRegression\n",
    "from sklearn.ensemble import RandomForestClassifier\n",
    "from sklearn.neighbors import KNeighborsClassifier\n",
    "from sklearn.model_selection import cross_val_score\n",
    "from sklearn.model_selection import StratifiedKFold\n",
    "from sklearn.model_selection import GridSearchCV\n",
    "\n",
    "import seaborn as sns\n",
    "import pandas as pd\n",
    "import numpy as np\n",
    "import warnings\n",
    "import re"
   ]
  },
  {
   "cell_type": "code",
   "execution_count": 570,
   "metadata": {},
   "outputs": [],
   "source": [
    "%matplotlib inline\n",
    "warnings.filterwarnings(\"ignore\")"
   ]
  },
  {
   "cell_type": "code",
   "execution_count": 571,
   "metadata": {},
   "outputs": [],
   "source": [
    "train_df, test_df = None, None\n",
    "ids = pd.DataFrame()\n",
    "\n",
    "def load_data():\n",
    "    global train_df, test_df\n",
    "\n",
    "    train_df = pd.read_csv(\"data/train.csv\")\n",
    "    test_df = pd.read_csv(\"data/test.csv\")\n",
    "    \n",
    "    ids[\"PassengerId\"] = test_df[\"PassengerId\"]"
   ]
  },
  {
   "cell_type": "code",
   "execution_count": null,
   "metadata": {},
   "outputs": [],
   "source": [
    "load_data()"
   ]
  },
  {
   "cell_type": "code",
   "execution_count": 135,
   "metadata": {},
   "outputs": [],
   "source": [
    "numerical_desc_train = train_df.describe()\n",
    "categorical_desc_train = train_df.describe(include=[\"O\"])"
   ]
  },
  {
   "cell_type": "code",
   "execution_count": 136,
   "metadata": {},
   "outputs": [
    {
     "data": {
      "text/html": [
       "<div>\n",
       "<style scoped>\n",
       "    .dataframe tbody tr th:only-of-type {\n",
       "        vertical-align: middle;\n",
       "    }\n",
       "\n",
       "    .dataframe tbody tr th {\n",
       "        vertical-align: top;\n",
       "    }\n",
       "\n",
       "    .dataframe thead th {\n",
       "        text-align: right;\n",
       "    }\n",
       "</style>\n",
       "<table border=\"1\" class=\"dataframe\">\n",
       "  <thead>\n",
       "    <tr style=\"text-align: right;\">\n",
       "      <th></th>\n",
       "      <th>PassengerId</th>\n",
       "      <th>Survived</th>\n",
       "      <th>Pclass</th>\n",
       "      <th>Age</th>\n",
       "      <th>SibSp</th>\n",
       "      <th>Parch</th>\n",
       "      <th>Fare</th>\n",
       "    </tr>\n",
       "  </thead>\n",
       "  <tbody>\n",
       "    <tr>\n",
       "      <th>count</th>\n",
       "      <td>891.000000</td>\n",
       "      <td>891.000000</td>\n",
       "      <td>891.000000</td>\n",
       "      <td>714.000000</td>\n",
       "      <td>891.000000</td>\n",
       "      <td>891.000000</td>\n",
       "      <td>891.000000</td>\n",
       "    </tr>\n",
       "    <tr>\n",
       "      <th>mean</th>\n",
       "      <td>446.000000</td>\n",
       "      <td>0.383838</td>\n",
       "      <td>2.308642</td>\n",
       "      <td>29.699118</td>\n",
       "      <td>0.523008</td>\n",
       "      <td>0.381594</td>\n",
       "      <td>32.204208</td>\n",
       "    </tr>\n",
       "    <tr>\n",
       "      <th>std</th>\n",
       "      <td>257.353842</td>\n",
       "      <td>0.486592</td>\n",
       "      <td>0.836071</td>\n",
       "      <td>14.526497</td>\n",
       "      <td>1.102743</td>\n",
       "      <td>0.806057</td>\n",
       "      <td>49.693429</td>\n",
       "    </tr>\n",
       "    <tr>\n",
       "      <th>min</th>\n",
       "      <td>1.000000</td>\n",
       "      <td>0.000000</td>\n",
       "      <td>1.000000</td>\n",
       "      <td>0.420000</td>\n",
       "      <td>0.000000</td>\n",
       "      <td>0.000000</td>\n",
       "      <td>0.000000</td>\n",
       "    </tr>\n",
       "    <tr>\n",
       "      <th>25%</th>\n",
       "      <td>223.500000</td>\n",
       "      <td>0.000000</td>\n",
       "      <td>2.000000</td>\n",
       "      <td>20.125000</td>\n",
       "      <td>0.000000</td>\n",
       "      <td>0.000000</td>\n",
       "      <td>7.910400</td>\n",
       "    </tr>\n",
       "    <tr>\n",
       "      <th>50%</th>\n",
       "      <td>446.000000</td>\n",
       "      <td>0.000000</td>\n",
       "      <td>3.000000</td>\n",
       "      <td>28.000000</td>\n",
       "      <td>0.000000</td>\n",
       "      <td>0.000000</td>\n",
       "      <td>14.454200</td>\n",
       "    </tr>\n",
       "    <tr>\n",
       "      <th>75%</th>\n",
       "      <td>668.500000</td>\n",
       "      <td>1.000000</td>\n",
       "      <td>3.000000</td>\n",
       "      <td>38.000000</td>\n",
       "      <td>1.000000</td>\n",
       "      <td>0.000000</td>\n",
       "      <td>31.000000</td>\n",
       "    </tr>\n",
       "    <tr>\n",
       "      <th>max</th>\n",
       "      <td>891.000000</td>\n",
       "      <td>1.000000</td>\n",
       "      <td>3.000000</td>\n",
       "      <td>80.000000</td>\n",
       "      <td>8.000000</td>\n",
       "      <td>6.000000</td>\n",
       "      <td>512.329200</td>\n",
       "    </tr>\n",
       "  </tbody>\n",
       "</table>\n",
       "</div>"
      ],
      "text/plain": [
       "       PassengerId    Survived      Pclass         Age       SibSp  \\\n",
       "count   891.000000  891.000000  891.000000  714.000000  891.000000   \n",
       "mean    446.000000    0.383838    2.308642   29.699118    0.523008   \n",
       "std     257.353842    0.486592    0.836071   14.526497    1.102743   \n",
       "min       1.000000    0.000000    1.000000    0.420000    0.000000   \n",
       "25%     223.500000    0.000000    2.000000   20.125000    0.000000   \n",
       "50%     446.000000    0.000000    3.000000   28.000000    0.000000   \n",
       "75%     668.500000    1.000000    3.000000   38.000000    1.000000   \n",
       "max     891.000000    1.000000    3.000000   80.000000    8.000000   \n",
       "\n",
       "            Parch        Fare  \n",
       "count  891.000000  891.000000  \n",
       "mean     0.381594   32.204208  \n",
       "std      0.806057   49.693429  \n",
       "min      0.000000    0.000000  \n",
       "25%      0.000000    7.910400  \n",
       "50%      0.000000   14.454200  \n",
       "75%      0.000000   31.000000  \n",
       "max      6.000000  512.329200  "
      ]
     },
     "execution_count": 136,
     "metadata": {},
     "output_type": "execute_result"
    }
   ],
   "source": [
    "numerical_desc_train"
   ]
  },
  {
   "cell_type": "code",
   "execution_count": 137,
   "metadata": {},
   "outputs": [
    {
     "data": {
      "text/html": [
       "<div>\n",
       "<style scoped>\n",
       "    .dataframe tbody tr th:only-of-type {\n",
       "        vertical-align: middle;\n",
       "    }\n",
       "\n",
       "    .dataframe tbody tr th {\n",
       "        vertical-align: top;\n",
       "    }\n",
       "\n",
       "    .dataframe thead th {\n",
       "        text-align: right;\n",
       "    }\n",
       "</style>\n",
       "<table border=\"1\" class=\"dataframe\">\n",
       "  <thead>\n",
       "    <tr style=\"text-align: right;\">\n",
       "      <th></th>\n",
       "      <th>Name</th>\n",
       "      <th>Sex</th>\n",
       "      <th>Ticket</th>\n",
       "      <th>Cabin</th>\n",
       "      <th>Embarked</th>\n",
       "    </tr>\n",
       "  </thead>\n",
       "  <tbody>\n",
       "    <tr>\n",
       "      <th>count</th>\n",
       "      <td>891</td>\n",
       "      <td>891</td>\n",
       "      <td>891</td>\n",
       "      <td>204</td>\n",
       "      <td>889</td>\n",
       "    </tr>\n",
       "    <tr>\n",
       "      <th>unique</th>\n",
       "      <td>891</td>\n",
       "      <td>2</td>\n",
       "      <td>681</td>\n",
       "      <td>147</td>\n",
       "      <td>3</td>\n",
       "    </tr>\n",
       "    <tr>\n",
       "      <th>top</th>\n",
       "      <td>Wilhelms, Mr. Charles</td>\n",
       "      <td>male</td>\n",
       "      <td>1601</td>\n",
       "      <td>B96 B98</td>\n",
       "      <td>S</td>\n",
       "    </tr>\n",
       "    <tr>\n",
       "      <th>freq</th>\n",
       "      <td>1</td>\n",
       "      <td>577</td>\n",
       "      <td>7</td>\n",
       "      <td>4</td>\n",
       "      <td>644</td>\n",
       "    </tr>\n",
       "  </tbody>\n",
       "</table>\n",
       "</div>"
      ],
      "text/plain": [
       "                         Name   Sex Ticket    Cabin Embarked\n",
       "count                     891   891    891      204      889\n",
       "unique                    891     2    681      147        3\n",
       "top     Wilhelms, Mr. Charles  male   1601  B96 B98        S\n",
       "freq                        1   577      7        4      644"
      ]
     },
     "execution_count": 137,
     "metadata": {},
     "output_type": "execute_result"
    }
   ],
   "source": [
    "categorical_desc_train"
   ]
  },
  {
   "cell_type": "code",
   "execution_count": 4,
   "metadata": {},
   "outputs": [],
   "source": [
    "def survived_by(*args):\n",
    "    cols = [arg for arg in args]\n",
    "    return train_df[cols]. \\\n",
    "        groupby(cols[0], as_index=False).mean(). \\\n",
    "        sort_values(cols[len(cols)-1], ascending=False)"
   ]
  },
  {
   "cell_type": "code",
   "execution_count": 139,
   "metadata": {},
   "outputs": [
    {
     "data": {
      "text/html": [
       "<div>\n",
       "<style scoped>\n",
       "    .dataframe tbody tr th:only-of-type {\n",
       "        vertical-align: middle;\n",
       "    }\n",
       "\n",
       "    .dataframe tbody tr th {\n",
       "        vertical-align: top;\n",
       "    }\n",
       "\n",
       "    .dataframe thead th {\n",
       "        text-align: right;\n",
       "    }\n",
       "</style>\n",
       "<table border=\"1\" class=\"dataframe\">\n",
       "  <thead>\n",
       "    <tr style=\"text-align: right;\">\n",
       "      <th></th>\n",
       "      <th>Embarked</th>\n",
       "      <th>Survived</th>\n",
       "    </tr>\n",
       "  </thead>\n",
       "  <tbody>\n",
       "    <tr>\n",
       "      <th>0</th>\n",
       "      <td>C</td>\n",
       "      <td>0.553571</td>\n",
       "    </tr>\n",
       "    <tr>\n",
       "      <th>1</th>\n",
       "      <td>Q</td>\n",
       "      <td>0.389610</td>\n",
       "    </tr>\n",
       "    <tr>\n",
       "      <th>2</th>\n",
       "      <td>S</td>\n",
       "      <td>0.336957</td>\n",
       "    </tr>\n",
       "  </tbody>\n",
       "</table>\n",
       "</div>"
      ],
      "text/plain": [
       "  Embarked  Survived\n",
       "0        C  0.553571\n",
       "1        Q  0.389610\n",
       "2        S  0.336957"
      ]
     },
     "execution_count": 139,
     "metadata": {},
     "output_type": "execute_result"
    }
   ],
   "source": [
    "survived_by(\"Embarked\", \"Survived\")"
   ]
  },
  {
   "cell_type": "code",
   "execution_count": 140,
   "metadata": {},
   "outputs": [
    {
     "data": {
      "text/html": [
       "<div>\n",
       "<style scoped>\n",
       "    .dataframe tbody tr th:only-of-type {\n",
       "        vertical-align: middle;\n",
       "    }\n",
       "\n",
       "    .dataframe tbody tr th {\n",
       "        vertical-align: top;\n",
       "    }\n",
       "\n",
       "    .dataframe thead th {\n",
       "        text-align: right;\n",
       "    }\n",
       "</style>\n",
       "<table border=\"1\" class=\"dataframe\">\n",
       "  <thead>\n",
       "    <tr style=\"text-align: right;\">\n",
       "      <th></th>\n",
       "      <th>Pclass</th>\n",
       "      <th>Survived</th>\n",
       "    </tr>\n",
       "  </thead>\n",
       "  <tbody>\n",
       "    <tr>\n",
       "      <th>0</th>\n",
       "      <td>1</td>\n",
       "      <td>0.629630</td>\n",
       "    </tr>\n",
       "    <tr>\n",
       "      <th>1</th>\n",
       "      <td>2</td>\n",
       "      <td>0.472826</td>\n",
       "    </tr>\n",
       "    <tr>\n",
       "      <th>2</th>\n",
       "      <td>3</td>\n",
       "      <td>0.242363</td>\n",
       "    </tr>\n",
       "  </tbody>\n",
       "</table>\n",
       "</div>"
      ],
      "text/plain": [
       "   Pclass  Survived\n",
       "0       1  0.629630\n",
       "1       2  0.472826\n",
       "2       3  0.242363"
      ]
     },
     "execution_count": 140,
     "metadata": {},
     "output_type": "execute_result"
    }
   ],
   "source": [
    "survived_by(\"Pclass\", \"Survived\")"
   ]
  },
  {
   "cell_type": "code",
   "execution_count": 141,
   "metadata": {},
   "outputs": [
    {
     "data": {
      "text/html": [
       "<div>\n",
       "<style scoped>\n",
       "    .dataframe tbody tr th:only-of-type {\n",
       "        vertical-align: middle;\n",
       "    }\n",
       "\n",
       "    .dataframe tbody tr th {\n",
       "        vertical-align: top;\n",
       "    }\n",
       "\n",
       "    .dataframe thead th {\n",
       "        text-align: right;\n",
       "    }\n",
       "</style>\n",
       "<table border=\"1\" class=\"dataframe\">\n",
       "  <thead>\n",
       "    <tr style=\"text-align: right;\">\n",
       "      <th></th>\n",
       "      <th>Sex</th>\n",
       "      <th>Survived</th>\n",
       "    </tr>\n",
       "  </thead>\n",
       "  <tbody>\n",
       "    <tr>\n",
       "      <th>0</th>\n",
       "      <td>female</td>\n",
       "      <td>0.742038</td>\n",
       "    </tr>\n",
       "    <tr>\n",
       "      <th>1</th>\n",
       "      <td>male</td>\n",
       "      <td>0.188908</td>\n",
       "    </tr>\n",
       "  </tbody>\n",
       "</table>\n",
       "</div>"
      ],
      "text/plain": [
       "      Sex  Survived\n",
       "0  female  0.742038\n",
       "1    male  0.188908"
      ]
     },
     "execution_count": 141,
     "metadata": {},
     "output_type": "execute_result"
    }
   ],
   "source": [
    "survived_by(\"Sex\", \"Survived\")"
   ]
  },
  {
   "cell_type": "code",
   "execution_count": 142,
   "metadata": {},
   "outputs": [
    {
     "data": {
      "text/html": [
       "<div>\n",
       "<style scoped>\n",
       "    .dataframe tbody tr th:only-of-type {\n",
       "        vertical-align: middle;\n",
       "    }\n",
       "\n",
       "    .dataframe tbody tr th {\n",
       "        vertical-align: top;\n",
       "    }\n",
       "\n",
       "    .dataframe thead th {\n",
       "        text-align: right;\n",
       "    }\n",
       "</style>\n",
       "<table border=\"1\" class=\"dataframe\">\n",
       "  <thead>\n",
       "    <tr style=\"text-align: right;\">\n",
       "      <th></th>\n",
       "      <th>SibSp</th>\n",
       "      <th>Survived</th>\n",
       "    </tr>\n",
       "  </thead>\n",
       "  <tbody>\n",
       "    <tr>\n",
       "      <th>1</th>\n",
       "      <td>1</td>\n",
       "      <td>0.535885</td>\n",
       "    </tr>\n",
       "    <tr>\n",
       "      <th>2</th>\n",
       "      <td>2</td>\n",
       "      <td>0.464286</td>\n",
       "    </tr>\n",
       "    <tr>\n",
       "      <th>0</th>\n",
       "      <td>0</td>\n",
       "      <td>0.345395</td>\n",
       "    </tr>\n",
       "    <tr>\n",
       "      <th>3</th>\n",
       "      <td>3</td>\n",
       "      <td>0.250000</td>\n",
       "    </tr>\n",
       "    <tr>\n",
       "      <th>4</th>\n",
       "      <td>4</td>\n",
       "      <td>0.166667</td>\n",
       "    </tr>\n",
       "    <tr>\n",
       "      <th>5</th>\n",
       "      <td>5</td>\n",
       "      <td>0.000000</td>\n",
       "    </tr>\n",
       "    <tr>\n",
       "      <th>6</th>\n",
       "      <td>8</td>\n",
       "      <td>0.000000</td>\n",
       "    </tr>\n",
       "  </tbody>\n",
       "</table>\n",
       "</div>"
      ],
      "text/plain": [
       "   SibSp  Survived\n",
       "1      1  0.535885\n",
       "2      2  0.464286\n",
       "0      0  0.345395\n",
       "3      3  0.250000\n",
       "4      4  0.166667\n",
       "5      5  0.000000\n",
       "6      8  0.000000"
      ]
     },
     "execution_count": 142,
     "metadata": {},
     "output_type": "execute_result"
    }
   ],
   "source": [
    "survived_by(\"SibSp\", \"Survived\")"
   ]
  },
  {
   "cell_type": "code",
   "execution_count": 80,
   "metadata": {},
   "outputs": [
    {
     "data": {
      "text/html": [
       "<div>\n",
       "<style scoped>\n",
       "    .dataframe tbody tr th:only-of-type {\n",
       "        vertical-align: middle;\n",
       "    }\n",
       "\n",
       "    .dataframe tbody tr th {\n",
       "        vertical-align: top;\n",
       "    }\n",
       "\n",
       "    .dataframe thead th {\n",
       "        text-align: right;\n",
       "    }\n",
       "</style>\n",
       "<table border=\"1\" class=\"dataframe\">\n",
       "  <thead>\n",
       "    <tr style=\"text-align: right;\">\n",
       "      <th></th>\n",
       "      <th>Parch</th>\n",
       "      <th>Survived</th>\n",
       "    </tr>\n",
       "  </thead>\n",
       "  <tbody>\n",
       "    <tr>\n",
       "      <th>3</th>\n",
       "      <td>3</td>\n",
       "      <td>0.600000</td>\n",
       "    </tr>\n",
       "    <tr>\n",
       "      <th>1</th>\n",
       "      <td>1</td>\n",
       "      <td>0.550847</td>\n",
       "    </tr>\n",
       "    <tr>\n",
       "      <th>2</th>\n",
       "      <td>2</td>\n",
       "      <td>0.500000</td>\n",
       "    </tr>\n",
       "    <tr>\n",
       "      <th>0</th>\n",
       "      <td>0</td>\n",
       "      <td>0.343658</td>\n",
       "    </tr>\n",
       "    <tr>\n",
       "      <th>5</th>\n",
       "      <td>5</td>\n",
       "      <td>0.200000</td>\n",
       "    </tr>\n",
       "    <tr>\n",
       "      <th>4</th>\n",
       "      <td>4</td>\n",
       "      <td>0.000000</td>\n",
       "    </tr>\n",
       "    <tr>\n",
       "      <th>6</th>\n",
       "      <td>6</td>\n",
       "      <td>0.000000</td>\n",
       "    </tr>\n",
       "  </tbody>\n",
       "</table>\n",
       "</div>"
      ],
      "text/plain": [
       "   Parch  Survived\n",
       "3      3  0.600000\n",
       "1      1  0.550847\n",
       "2      2  0.500000\n",
       "0      0  0.343658\n",
       "5      5  0.200000\n",
       "4      4  0.000000\n",
       "6      6  0.000000"
      ]
     },
     "execution_count": 80,
     "metadata": {},
     "output_type": "execute_result"
    }
   ],
   "source": [
    "survived_by(\"Parch\", \"Survived\")"
   ]
  },
  {
   "cell_type": "code",
   "execution_count": 144,
   "metadata": {},
   "outputs": [
    {
     "data": {
      "text/plain": [
       "<seaborn.axisgrid.FacetGrid at 0x12b09960400>"
      ]
     },
     "execution_count": 144,
     "metadata": {},
     "output_type": "execute_result"
    },
    {
     "data": {
      "image/png": "[encoded data removed]",
      "text/plain": [
       "<Figure size 286.5x648 with 3 Axes>"
      ]
     },
     "metadata": {
      "needs_background": "light"
     },
     "output_type": "display_data"
    }
   ],
   "source": [
    "sg = sns.FacetGrid(train_df, row=\"Embarked\")\n",
    "sg.map(sns.pointplot, \"Pclass\", \"Survived\", \"Sex\")\n",
    "sg.add_legend()"
   ]
  },
  {
   "cell_type": "code",
   "execution_count": 9,
   "metadata": {},
   "outputs": [
    {
     "data": {
      "text/plain": [
       "Age         177\n",
       "Embarked      2\n",
       "Title         0\n",
       "Fare          0\n",
       "Parch         0\n",
       "SibSp         0\n",
       "Sex           0\n",
       "Pclass        0\n",
       "Survived      0\n",
       "dtype: int64"
      ]
     },
     "execution_count": 9,
     "metadata": {},
     "output_type": "execute_result"
    }
   ],
   "source": [
    "train_df.isna().sum().sort_values(ascending=False)"
   ]
  },
  {
   "cell_type": "code",
   "execution_count": 694,
   "metadata": {},
   "outputs": [],
   "source": [
    "load_data()"
   ]
  },
  {
   "cell_type": "code",
   "execution_count": 695,
   "metadata": {},
   "outputs": [],
   "source": [
    "# title feature\n",
    "\n",
    "title_map = {\n",
    "    \"Miss\": 1, \"Mrs\": 2, \"Mr\": 3, \"Master\": 4, \"Boss\": 5\n",
    "}\n",
    "\n",
    "sex_map = {\n",
    "    \"female\": 1, \"male\": 0\n",
    "}\n",
    "\n",
    "boss_titles = [\n",
    "    \"Lady\", \"Countess\", \"Dona\", \n",
    "    \"Capt\", \"Col\",\"Don\", \"Dr\", \n",
    "    \"Major\", \"Rev\", \"Sir\", \"Jonkheer\"\n",
    "]\n",
    "\n",
    "\n",
    "def extract_title(df):\n",
    "    df[\"Title\"] = df.Name.str.extract(\"([A-Za-z]+)\\.\", expand=False)\n",
    "    \n",
    "    df[\"Title\"] = df[\"Title\"].replace(boss_titles, \"Boss\")\n",
    "    df[\"Title\"] = df[\"Title\"].replace(\"Ms\", \"Miss\")\n",
    "    # replace french titles\n",
    "    # mme = madame\n",
    "    # mlle = mad...selle\n",
    "    df[\"Title\"] = df[\"Title\"].replace(\"Mlle\", \"Miss\")\n",
    "    df[\"Title\"] = df[\"Title\"].replace(\"Mme\", \"Mrs\")\n",
    "    \n",
    "\n",
    "def title_to_ord(df, cols, mappings):\n",
    "    for i, col in enumerate(cols):\n",
    "        df[col] = df[col].map(mappings[i])\n",
    "    \n",
    "    \n",
    "extract_title(train_df)\n",
    "extract_title(test_df)\n",
    "\n",
    "title_to_ord(train_df, [\"Title\", \"Sex\"], [title_map, sex_map])\n",
    "title_to_ord(test_df, [\"Title\", \"Sex\"], [title_map, sex_map])"
   ]
  },
  {
   "cell_type": "code",
   "execution_count": 696,
   "metadata": {},
   "outputs": [],
   "source": [
    "def group_ages(df, num=6):\n",
    "    age_df = df[[\"Survived\"]]\n",
    "    age_df[\"AgeGroup\"] = pd.cut(df[\"Age\"], num)\n",
    "    \n",
    "    return age_df[[\"AgeGroup\", \"Survived\"]].\\\n",
    "                groupby([\"AgeGroup\"], as_index=False).mean().\\\n",
    "                sort_values(by=\"AgeGroup\")"
   ]
  },
  {
   "cell_type": "code",
   "execution_count": 697,
   "metadata": {},
   "outputs": [],
   "source": [
    "# age feature\n",
    "\n",
    "age_groups = {\n",
    "    5: {\n",
    "        0: (-0.08, 16.0),\n",
    "        1: (16.0, 32.0),\n",
    "        2: (32.0, 48.0),\n",
    "        3: (48.0, 64.0),\n",
    "        4: (64.0, 80.0)\n",
    "    },\n",
    "    6: {\n",
    "        0: (-0.08, 13.333),\n",
    "        1: (13.333, 26.667),\n",
    "        2: (26.667, 40.0),\n",
    "        3: (40.0, 53.333),\n",
    "        4: (53.333, 66.667),\n",
    "        5: (66.667, 80.0)\n",
    "    },\n",
    "    7: {\n",
    "        0: (0.34, 11.789),\n",
    "        1: (11.789, 23.157),\n",
    "        2: (23.157, 34.526),\n",
    "        3: (34.526, 45.894),\n",
    "        4: (45.894, 57.263),\n",
    "        5: (57.263, 68.631),\n",
    "        6: (68.631, 80.0)\n",
    "    }\n",
    "}\n",
    "\n",
    "def fill_na_age(df):\n",
    "    sex = [0, 1]\n",
    "    pclass = [1, 2, 3]\n",
    "    ages = np.zeros(shape=(2, 3))\n",
    "    for i in sex:\n",
    "        for j in pclass:\n",
    "            med = df[(df[\"Sex\"] == i) & \\\n",
    "                     (df[\"Pclass\"] == j)][\"Age\"].dropna()\n",
    "            \n",
    "            ages[i, j-1] = int(med.median())\n",
    "            \n",
    "    for i in sex:\n",
    "        for j in pclass:\n",
    "            df.loc[(df.Age.isna()) & \\\n",
    "                   (df.Sex == i) & \\\n",
    "                   (df.Pclass == j), \"Age\"] = int(ages[i, j-1])\n",
    "    \n",
    "    df[\"Age\"] = df[\"Age\"].astype(int)\n",
    "    \n",
    "    \n",
    "def age_to_ord(df, group=6):\n",
    "    for k, v in age_groups[group].items():\n",
    "        if k == 0:\n",
    "            df.loc[df[\"Age\"] <= v[1], \"Age\"] = k\n",
    "        elif k == (group - 1):\n",
    "            df.loc[df[\"Age\"] > v[0], \"Age\"] = k\n",
    "        else:\n",
    "            df.loc[(df[\"Age\"] > v[0]) & (df[\"Age\"] <= v[1]), \"Age\"] = k\n",
    "            \n",
    "        df[\"Age\"] = df[\"Age\"].astype(int)\n",
    "        \n",
    "        \n",
    "fill_na_age(train_df)\n",
    "fill_na_age(test_df)\n",
    "\n",
    "age_to_ord(train_df, group=6)\n",
    "age_to_ord(test_df, group=6)"
   ]
  },
  {
   "cell_type": "code",
   "execution_count": 698,
   "metadata": {},
   "outputs": [],
   "source": [
    "# embarked feature\n",
    "\n",
    "port_map = {\"S\": 0, \"C\": 1, \"Q\": 2}\n",
    "\n",
    "def fill_na_embarked(df):\n",
    "    df[\"Embarked\"] = df[\"Embarked\"].fillna(\"S\")\n",
    "    \n",
    "    \n",
    "def embarked_to_ord(df):\n",
    "    df[\"Embarked\"] = df[\"Embarked\"].map(port_map).astype(int)\n",
    "        \n",
    "        \n",
    "fill_na_embarked(train_df)\n",
    "fill_na_embarked(test_df)\n",
    "\n",
    "embarked_to_ord(train_df)\n",
    "embarked_to_ord(test_df)"
   ]
  },
  {
   "cell_type": "code",
   "execution_count": 699,
   "metadata": {},
   "outputs": [],
   "source": [
    "def group_fares(df, num=5):\n",
    "    fare_df = df[[\"Survived\"]]\n",
    "    fare_df[\"FareGroup\"] = pd.qcut(df[\"Fare\"], num)\n",
    "    \n",
    "    return fare_df[[\"FareGroup\", \"Survived\"]].\\\n",
    "                groupby([\"FareGroup\"], as_index=False).mean().\\\n",
    "                sort_values(by=\"FareGroup\")"
   ]
  },
  {
   "cell_type": "code",
   "execution_count": 700,
   "metadata": {},
   "outputs": [],
   "source": [
    "# fare feature\n",
    "\n",
    "fare_groups = {\n",
    "    4: {\n",
    "        0: (-0.001, 7.91),\n",
    "        1: (7.91, 14.454),\n",
    "        2: (14.454, 31.0),\n",
    "        3: (31.0, 512.329)\n",
    "    },\n",
    "    5: {\n",
    "        0: (-0.001, 7.854),\n",
    "        1: (7.854, 10.5),\n",
    "        2: (10.5, 21.679),\n",
    "        3: (21.679, 39.688),\n",
    "        4: (39.688, 512.329)\n",
    "    }\n",
    "}\n",
    "\n",
    "def fill_na_fare(df):\n",
    "    df[\"Fare\"].fillna(df[\"Fare\"].dropna().median(), inplace=True)\n",
    "    \n",
    "\n",
    "def fare_to_ord(df, group=5):\n",
    "    for k, v in fare_groups[group].items():\n",
    "        if k == 0:\n",
    "            df.loc[df[\"Fare\"] <= v[1], \"Fare\"] = k\n",
    "        elif k == (group - 1):\n",
    "            df.loc[df[\"Fare\"] > v[0], \"Fare\"] = k\n",
    "        else:\n",
    "            df.loc[(df[\"Fare\"] > v[0]) & (df[\"Fare\"] <= v[1]), \"Fare\"] = k\n",
    "    \n",
    "        df[\"Fare\"] = df[\"Fare\"].astype(int)\n",
    "\n",
    "        \n",
    "fill_na_fare(train_df)\n",
    "fill_na_fare(test_df)\n",
    "\n",
    "fare_to_ord(train_df, group=5)\n",
    "fare_to_ord(test_df, group=5)"
   ]
  },
  {
   "cell_type": "code",
   "execution_count": 701,
   "metadata": {},
   "outputs": [],
   "source": [
    "# deck feature\n",
    "\n",
    "deck_map = {\"A\": 1, \"B\": 2, \"C\": 3, \"D\": 4, \"E\": 5, \"F\": 6, \"G\": 7, \"U\": 8, \"T\": 9}\n",
    "\n",
    "def create_deck(df):\n",
    "    df[\"Cabin\"] = df[\"Cabin\"].fillna(\"U\")\n",
    "    df[\"Deck\"] = df[\"Cabin\"].map(lambda x: x[0])\n",
    "    df[\"Deck\"] = df[\"Deck\"].map(deck_map).astype(int)\n",
    "    \n",
    "\n",
    "create_deck(train_df)\n",
    "create_deck(test_df)"
   ]
  },
  {
   "cell_type": "code",
   "execution_count": 702,
   "metadata": {},
   "outputs": [],
   "source": [
    "# family feature\n",
    "\n",
    "def create_family(df):\n",
    "    df[\"Members\"] = df[\"Parch\"] + df[\"SibSp\"] + 1\n",
    "    \n",
    "create_family(train_df)\n",
    "create_family(test_df)"
   ]
  },
  {
   "cell_type": "code",
   "execution_count": 703,
   "metadata": {},
   "outputs": [],
   "source": [
    "train_df.drop(columns=[\"PassengerId\", \"Name\", \"Cabin\", \"Ticket\", \"Parch\", \"SibSp\"], inplace=True)\n",
    "test_df.drop(columns=[\"PassengerId\", \"Name\", \"Cabin\", \"Ticket\", \"Parch\", \"SibSp\"], inplace=True)"
   ]
  },
  {
   "cell_type": "code",
   "execution_count": 704,
   "metadata": {},
   "outputs": [],
   "source": [
    "X_train = train_df.drop(\"Survived\", axis=1)\n",
    "Y_train = train_df[\"Survived\"]\n",
    "X_test = test_df"
   ]
  },
  {
   "cell_type": "code",
   "execution_count": 705,
   "metadata": {},
   "outputs": [
    {
     "name": "stdout",
     "output_type": "stream",
     "text": [
      "Best score 0.8361559224154165\n",
      "Best params {'bootstrap': True, 'max_depth': 6, 'max_features': 'auto', 'min_samples_leaf': 3, 'min_samples_split': 10, 'n_estimators': 50}\n"
     ]
    }
   ],
   "source": [
    "rf_params = {\n",
    "    \"max_depth\": [4, 6, 8],\n",
    "    \"n_estimators\": [120, 80, 50, 20],\n",
    "    \"max_features\": [\"sqrt\", \"auto\", \"log2\"],\n",
    "    \"min_samples_split\": [2, 3, 10],\n",
    "    \"min_samples_leaf\": [1, 3, 10],\n",
    "    \"bootstrap\": [True, False]\n",
    "}\n",
    "\n",
    "rf = RandomForestClassifier()\n",
    "crv = StratifiedKFold(n_splits=5)\n",
    "\n",
    "rf_grid = GridSearchCV(\n",
    "    rf,\n",
    "    scoring=\"accuracy\",\n",
    "    param_grid=rf_params,\n",
    "    cv=crv\n",
    ")\n",
    "\n",
    "rf_grid.fit(X_train, Y_train)\n",
    "\n",
    "score = rf_grid.best_score_\n",
    "rf_best = rf_grid.best_params_\n",
    "\n",
    "print(\"Best score {}\".format(score))\n",
    "print(\"Best params {}\".format(rf_best))"
   ]
  },
  {
   "cell_type": "code",
   "execution_count": 678,
   "metadata": {},
   "outputs": [
    {
     "name": "stdout",
     "output_type": "stream",
     "text": [
      "Best score 0.812560416797439\n",
      "Best params {'C': 100}\n"
     ]
    }
   ],
   "source": [
    "lr_params = {\"C\":  [0.001, 0.01, 0.1, 1, 10, 100, 1000]}\n",
    "\n",
    "lr = LogisticRegression()\n",
    "\n",
    "lr_grid = GridSearchCV(\n",
    "    lr,\n",
    "    param_grid=lr_params\n",
    ")\n",
    "\n",
    "lr_grid.fit(X_train, Y_train)\n",
    "\n",
    "score = lr_grid.best_score_\n",
    "lr_best = lr_grid.best_params_\n",
    "\n",
    "print(\"Best score {}\".format(score))\n",
    "print(\"Best params {}\".format(lr_best))"
   ]
  },
  {
   "cell_type": "code",
   "execution_count": 692,
   "metadata": {},
   "outputs": [
    {
     "name": "stdout",
     "output_type": "stream",
     "text": [
      "Best score 0.8249687890137327\n",
      "Best params {'n_neighbors': 9}\n"
     ]
    }
   ],
   "source": [
    "knn_params = {\n",
    "    \"n_neighbors\": [1, 2, 3, 4, 5, 6, 7, 8, 9, 10, 11, 12, 13, 14, 15,\n",
    "                    16, 17, 18, 19, 20, 21, 22, 23, 24, 25, 26, 27, 28, 29, 30]\n",
    "}\n",
    "\n",
    "knn = KNeighborsClassifier()\n",
    "\n",
    "knn_grid = GridSearchCV(\n",
    "    knn,\n",
    "    param_grid=knn_params, \n",
    "    cv=10, \n",
    "    scoring='accuracy'\n",
    ")\n",
    "\n",
    "knn_grid.fit(X_train, Y_train)\n",
    "\n",
    "score = knn_grid.best_score_\n",
    "knn_best = knn_grid.best_params_\n",
    "\n",
    "print(\"Best score {}\".format(score))\n",
    "print(\"Best params {}\".format(knn_best))"
   ]
  },
  {
   "cell_type": "code",
   "execution_count": 717,
   "metadata": {},
   "outputs": [],
   "source": [
    "def score(model, X, y):\n",
    "    return np.mean(cross_val_score(model, X, y, cv=5, scoring=\"accuracy\"))"
   ]
  },
  {
   "cell_type": "code",
   "execution_count": 718,
   "metadata": {},
   "outputs": [
    {
     "name": "stdout",
     "output_type": "stream",
     "text": [
      "RForest score: 0.8215366267026554\n"
     ]
    }
   ],
   "source": [
    "print(\"RForest score: {}\".format(score(RandomForestClassifier(**rf_best), X_train, Y_train)))"
   ]
  },
  {
   "cell_type": "code",
   "execution_count": 681,
   "metadata": {},
   "outputs": [
    {
     "name": "stdout",
     "output_type": "stream",
     "text": [
      "LogReg score: 0.812560416797439\n"
     ]
    }
   ],
   "source": [
    "print(\"LogReg score: {}\".format(score(LogisticRegression(**lr_best), X_train, Y_train)))"
   ]
  },
  {
   "cell_type": "code",
   "execution_count": 677,
   "metadata": {},
   "outputs": [
    {
     "name": "stdout",
     "output_type": "stream",
     "text": [
      "Knn score: 0.8148138848785387\n"
     ]
    }
   ],
   "source": [
    "print(\"Knn score: {}\".format(score(KNeighborsClassifier(**knn_best), X_train, Y_train)))"
   ]
  },
  {
   "cell_type": "code",
   "execution_count": 690,
   "metadata": {},
   "outputs": [],
   "source": [
    "model = RandomForestClassifier(**rf_best)\n",
    "# model = LogisticRegression(**lr_best)\n",
    "# model = KNeighborsClassifier(**knn_best)\n",
    "\n",
    "model.fit(X_train, Y_train)\n",
    "\n",
    "y_out = model.predict(X_test).astype(int)\n",
    "\n",
    "out = pd.DataFrame({\n",
    "    \"PassengerId\": ids[\"PassengerId\"],\n",
    "    \"Survived\": y_out\n",
    "})\n",
    "out.to_csv(\"data/submission.csv\", index=False)"
   ]
  }
 ],
 "metadata": {
  "kernelspec": {
   "display_name": "Python 3",
   "language": "python",
   "name": "python3"
  },
  "language_info": {
   "codemirror_mode": {
    "name": "ipython",
    "version": 3
   },
   "file_extension": ".py",
   "mimetype": "text/x-python",
   "name": "python",
   "nbconvert_exporter": "python",
   "pygments_lexer": "ipython3",
   "version": "3.7.3"
  }
 },
 "nbformat": 4,
 "nbformat_minor": 2
}
